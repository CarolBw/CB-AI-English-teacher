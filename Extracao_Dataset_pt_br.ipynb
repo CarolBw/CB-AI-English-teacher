{
  "nbformat": 4,
  "nbformat_minor": 0,
  "metadata": {
    "colab": {
      "provenance": [],
      "mount_file_id": "1pW7g76ZgGkRIXQg5JVmr_TCyy5iDFCe_",
      "authorship_tag": "ABX9TyPage8fp8rczOI2bWLwsGcK",
      "include_colab_link": true
    },
    "kernelspec": {
      "name": "python3",
      "display_name": "Python 3"
    },
    "language_info": {
      "name": "python"
    }
  },
  "cells": [
    {
      "cell_type": "markdown",
      "metadata": {
        "id": "view-in-github",
        "colab_type": "text"
      },
      "source": [
        "<a href=\"https://colab.research.google.com/github/CarolBw/CB-AI-English-teacher/blob/main/Extracao_Dataset_pt_br.ipynb\" target=\"_parent\"><img src=\"https://colab.research.google.com/assets/colab-badge.svg\" alt=\"Open In Colab\"/></a>"
      ]
    },
    {
      "cell_type": "markdown",
      "source": [
        "Script para realizar a coleta dos textos em português contidos no conjunto de dados 'Variedades de idiomas inglês, espanhol e português' extraido do Kaggle.\n",
        "\n",
        "https://www.kaggle.com/datasets/rodrigoazs/english-spanish-and-portuguese-language-varieties"
      ],
      "metadata": {
        "id": "_x6mmabjdu6j"
      }
    },
    {
      "cell_type": "code",
      "execution_count": 1,
      "metadata": {
        "id": "hNh0HG8gtK8s"
      },
      "outputs": [],
      "source": [
        "# Importando as bibliotecas\n",
        "import os\n",
        "import pandas as pd\n",
        "import dask.dataframe as dd\n",
        "from dask import delayed\n"
      ]
    },
    {
      "cell_type": "code",
      "source": [
        "# Função para realizar a leitura dos arquivos\n",
        "def read_text_file(file_path):\n",
        "    with open(file_path, 'r', encoding='utf-8') as file:\n",
        "        content = file.read()\n",
        "\n",
        "    # Criar um DataFrame para cada arquivo\n",
        "    return pd.DataFrame({'filename': [os.path.basename(file_path)], 'content': [content]})\n",
        "# Encontrar a pasta que contém o material em português\n",
        "folder_path = '/content/drive/MyDrive/Data-Science_Analytics/Projetos/CB-AI English Teacher/pt-br'\n",
        "file_paths = [os.path.join(folder_path, f) for f in os.listdir(folder_path) if f.endswith('.txt')]\n",
        "\n",
        "# Criar uma lista de DataFrames delayed\n",
        "delayed_dfs = [delayed(read_text_file)(fp) for fp in file_paths]\n",
        "\n",
        "# Converter para Dask DataFrame\n",
        "ddf = dd.from_delayed(delayed_dfs)\n",
        "\n",
        "# Converter Dask DataFrame para Pandas DataFrame\n",
        "df_result = ddf.compute()\n",
        "\n",
        "print('Processo conluido. Material coletado.')\n"
      ],
      "metadata": {
        "colab": {
          "base_uri": "https://localhost:8080/"
        },
        "id": "O9IEbi9NzxXD",
        "outputId": "3c9a72d5-a1e0-4a0c-90a8-ba9a11ab4644"
      },
      "execution_count": 3,
      "outputs": [
        {
          "output_type": "stream",
          "name": "stdout",
          "text": [
            "Processo conluido. Material coletado.\n"
          ]
        }
      ]
    },
    {
      "cell_type": "code",
      "source": [
        "# Mostrar prévia do material coletado e salvar o conteúdo em csv.\n",
        "\n",
        "print(df_result.head(20))\n",
        "df_result.to_csv('textos_pt-br.csv', index=False)\n"
      ],
      "metadata": {
        "colab": {
          "base_uri": "https://localhost:8080/"
        },
        "id": "WP5jumh40lmX",
        "outputId": "19465fb4-91c0-4cfc-a52f-0e0eca93d28c"
      },
      "execution_count": 4,
      "outputs": [
        {
          "output_type": "stream",
          "name": "stdout",
          "text": [
            "           filename                                            content\n",
            "0  02d2898e1cce.txt  Exercício militar da Otan marca retorno ao cen...\n",
            "0  03356737a94f.txt  Leila Pereira, presidente do Palmeiras, diz se...\n",
            "0  0209ce698748.txt  Asse no forno preaquecido por aproximadamente ...\n",
            "0  02336416faca.txt  Compartilhar nas redes sociais \"Tv Folha: Aos ...\n",
            "0  02732464a276.txt  Ofertar novos Serviços a você, através da sua ...\n",
            "0  02bee504f08e.txt  Além disso, soma-se a maneira como o problema ...\n",
            "0  026b29ddeddf.txt  O sul tem concentrado alguns dos mais sangrent...\n",
            "0  020b4a83326f.txt  Cúpula da Abin realiza reunião durante operaçã...\n",
            "0  028369fc13f5.txt  A exposição \"Sempre Fui Forte\" fica em cartaz ...\n",
            "0  02f3597b2c3e.txt  Titi Müller critica mudança de visual imposta ...\n",
            "0  013d63c489b0.txt  Onze participantes do BBB possuem algum compro...\n",
            "0  007e40fe2458.txt  Livros físicos em oferta na Amazon: mais de 45...\n",
            "0  00c274cc7b3c.txt  Pré-Carnaval tem Claudia Leitte com latinhas e...\n",
            "0  00bd020c4e0a.txt  Ataque à Rússia mata 24 um dia após maior bomb...\n",
            "0  00565ec68bea.txt  Paulo Junqueira, ruralista ligado ao ex-presid...\n",
            "0  00799f6ef19b.txt  Justiça dos EUA aceita o pedido de recuperação...\n",
            "0  00c1f30bfad1.txt  Compartilhar Pessoa com deficiência pode fazer...\n",
            "0  02077173e03d.txt  Mary Donaldson, 51, assume função após rainha ...\n",
            "0  01e957c30b72.txt  Compartilhar Chegada de James Rodríguez ao São...\n",
            "0  017e1642ded1.txt  Quem é Bernard Arnault, que superou Elon Musk ...\n"
          ]
        }
      ]
    },
    {
      "cell_type": "code",
      "source": [
        "# Verificar diretório\n",
        "!ls"
      ],
      "metadata": {
        "colab": {
          "base_uri": "https://localhost:8080/"
        },
        "id": "J5yRZ_vw20Pg",
        "outputId": "8b379207-5910-43d4-d723-fa6b0d65ad66"
      },
      "execution_count": 6,
      "outputs": [
        {
          "output_type": "stream",
          "name": "stdout",
          "text": [
            "drive  sample_data  textos_pt-br.csv\n"
          ]
        }
      ]
    },
    {
      "cell_type": "code",
      "source": [
        "# Montar drive\n",
        "\n",
        "from google.colab import drive\n",
        "drive.mount('/content/drive')\n",
        "\n",
        "# Copiando o arquivo para o Google Drive\n",
        "!cp textos_pt-br.csv '/content/drive/MyDrive/Data-Science_Analytics/Projetos/CB-AI English Teacher'\n"
      ],
      "metadata": {
        "colab": {
          "base_uri": "https://localhost:8080/"
        },
        "id": "BmGN1PJd3ouB",
        "outputId": "87746f0f-7784-43c2-a594-6fedcdde96d5"
      },
      "execution_count": 10,
      "outputs": [
        {
          "output_type": "stream",
          "name": "stdout",
          "text": [
            "Drive already mounted at /content/drive; to attempt to forcibly remount, call drive.mount(\"/content/drive\", force_remount=True).\n"
          ]
        }
      ]
    },
    {
      "cell_type": "code",
      "source": [
        "# Realizando download do arquivo csv\n",
        "\n",
        "from google.colab import files\n",
        "files.download('textos_pt-br.csv')"
      ],
      "metadata": {
        "colab": {
          "base_uri": "https://localhost:8080/",
          "height": 17
        },
        "id": "6DFACISm2JXv",
        "outputId": "3d4b86b0-f831-40d7-bd6b-5136405a1a66"
      },
      "execution_count": 7,
      "outputs": [
        {
          "output_type": "display_data",
          "data": {
            "text/plain": [
              "<IPython.core.display.Javascript object>"
            ],
            "application/javascript": [
              "\n",
              "    async function download(id, filename, size) {\n",
              "      if (!google.colab.kernel.accessAllowed) {\n",
              "        return;\n",
              "      }\n",
              "      const div = document.createElement('div');\n",
              "      const label = document.createElement('label');\n",
              "      label.textContent = `Downloading \"${filename}\": `;\n",
              "      div.appendChild(label);\n",
              "      const progress = document.createElement('progress');\n",
              "      progress.max = size;\n",
              "      div.appendChild(progress);\n",
              "      document.body.appendChild(div);\n",
              "\n",
              "      const buffers = [];\n",
              "      let downloaded = 0;\n",
              "\n",
              "      const channel = await google.colab.kernel.comms.open(id);\n",
              "      // Send a message to notify the kernel that we're ready.\n",
              "      channel.send({})\n",
              "\n",
              "      for await (const message of channel.messages) {\n",
              "        // Send a message to notify the kernel that we're ready.\n",
              "        channel.send({})\n",
              "        if (message.buffers) {\n",
              "          for (const buffer of message.buffers) {\n",
              "            buffers.push(buffer);\n",
              "            downloaded += buffer.byteLength;\n",
              "            progress.value = downloaded;\n",
              "          }\n",
              "        }\n",
              "      }\n",
              "      const blob = new Blob(buffers, {type: 'application/binary'});\n",
              "      const a = document.createElement('a');\n",
              "      a.href = window.URL.createObjectURL(blob);\n",
              "      a.download = filename;\n",
              "      div.appendChild(a);\n",
              "      a.click();\n",
              "      div.remove();\n",
              "    }\n",
              "  "
            ]
          },
          "metadata": {}
        },
        {
          "output_type": "display_data",
          "data": {
            "text/plain": [
              "<IPython.core.display.Javascript object>"
            ],
            "application/javascript": [
              "download(\"download_e85c51e1-7aff-4877-99cb-5adb288faf79\", \"textos_pt-br.csv\", 2993864)"
            ]
          },
          "metadata": {}
        }
      ]
    }
  ]
}