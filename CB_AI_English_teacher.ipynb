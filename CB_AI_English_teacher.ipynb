{
  "nbformat": 4,
  "nbformat_minor": 0,
  "metadata": {
    "colab": {
      "provenance": [],
      "collapsed_sections": [
        "jQc5XuyWvI6C",
        "r4JS3UqevTlu",
        "mwMdT5g9vZB9",
        "l8mzJRiovdA4",
        "ByZbIa9evgv8"
      ],
      "authorship_tag": "ABX9TyMxbIHvnJyCpDhlHrVhtws4",
      "include_colab_link": true
    },
    "kernelspec": {
      "name": "python3",
      "display_name": "Python 3"
    },
    "language_info": {
      "name": "python"
    }
  },
  "cells": [
    {
      "cell_type": "markdown",
      "metadata": {
        "id": "view-in-github",
        "colab_type": "text"
      },
      "source": [
        "<a href=\"https://colab.research.google.com/github/CarolBw/CB-AI-English-teacher/blob/main/CB_AI_English_teacher.ipynb\" target=\"_parent\"><img src=\"https://colab.research.google.com/assets/colab-badge.svg\" alt=\"Open In Colab\"/></a>"
      ]
    },
    {
      "cell_type": "markdown",
      "source": [
        "# Projeto MVP CB-AI English teacher.\n",
        "Trabalho de conclusão da Sprint Machine Learning & Analytics.\n",
        "Pós graduação em Ciencia de Dados, PUC-RJ.\n"
      ],
      "metadata": {
        "id": "i6kGnT7qughS"
      }
    },
    {
      "cell_type": "markdown",
      "source": [
        "\n",
        "# Visão Geral\n",
        "\n",
        "Este notebook contém o código para o desenvolvimento de um algoritmo professor de inglês utilizando técnicas de Processamento de Linguagem Natural (PNL) e Aprendizado de Máquina. O objetivo é criar um sistema capaz de entender consultas em inglês e fornecer respostas relevantes e informativas para auxiliar no aprendizado da língua inglesa.\n",
        "\n"
      ],
      "metadata": {
        "id": "adlTv8UAuaon"
      }
    },
    {
      "cell_type": "markdown",
      "source": [
        "# Preparação do Ambiente:\n",
        "\n",
        "\n",
        "\n"
      ],
      "metadata": {
        "id": "omBRc_yluwIX"
      }
    },
    {
      "cell_type": "code",
      "source": [
        "# Instalando as bibliotecas"
      ],
      "metadata": {
        "id": "OC1t4Y0Pu-x7"
      },
      "execution_count": null,
      "outputs": []
    },
    {
      "cell_type": "code",
      "source": [
        "# Importando as bibliotecas"
      ],
      "metadata": {
        "id": "A7rkfH3MwdzK"
      },
      "execution_count": null,
      "outputs": []
    },
    {
      "cell_type": "markdown",
      "source": [
        "# Carregamento e Pré-processamento dos Dados:\n",
        "\n",
        "\n"
      ],
      "metadata": {
        "id": "sIYHgV0Lu_yG"
      }
    },
    {
      "cell_type": "markdown",
      "source": [
        "Carregamento de dados\n"
      ],
      "metadata": {
        "id": "iK5mhUA4wqEI"
      }
    },
    {
      "cell_type": "code",
      "source": [],
      "metadata": {
        "id": "ErGhPyhRws3I"
      },
      "execution_count": null,
      "outputs": []
    },
    {
      "cell_type": "markdown",
      "source": [
        "\n",
        "Pré-processamento dos dados."
      ],
      "metadata": {
        "id": "7IW64tNgwusZ"
      }
    },
    {
      "cell_type": "code",
      "source": [],
      "metadata": {
        "id": "4RAtUjaWvIQa"
      },
      "execution_count": null,
      "outputs": []
    },
    {
      "cell_type": "markdown",
      "source": [
        "\n",
        "# Definição e Treinamento do Modelo:\n",
        "\n"
      ],
      "metadata": {
        "id": "jQc5XuyWvI6C"
      }
    },
    {
      "cell_type": "markdown",
      "source": [
        "\n",
        "Escolha da arquitetura do modelo (GPT).\n",
        "\n"
      ],
      "metadata": {
        "id": "alNkEsQkw2gM"
      }
    },
    {
      "cell_type": "code",
      "source": [],
      "metadata": {
        "id": "8fYS4u2nvPXq"
      },
      "execution_count": null,
      "outputs": []
    },
    {
      "cell_type": "markdown",
      "source": [
        "Definição e compilação do modelo de PNL.\n",
        "\n"
      ],
      "metadata": {
        "id": "Yj-aprd3w56U"
      }
    },
    {
      "cell_type": "code",
      "source": [],
      "metadata": {
        "id": "1HRvt8dIw70O"
      },
      "execution_count": null,
      "outputs": []
    },
    {
      "cell_type": "markdown",
      "source": [
        "Treinamento do modelo utilizando os dados preparados."
      ],
      "metadata": {
        "id": "HEib3JM9w80j"
      }
    },
    {
      "cell_type": "code",
      "source": [],
      "metadata": {
        "id": "y_iob1aTw9z9"
      },
      "execution_count": null,
      "outputs": []
    },
    {
      "cell_type": "markdown",
      "source": [
        "\n",
        "# Avaliação do Modelo:\n",
        "\n"
      ],
      "metadata": {
        "id": "r4JS3UqevTlu"
      }
    },
    {
      "cell_type": "markdown",
      "source": [
        "\n",
        "Usando métricas para avaliação do desempenho do modelo\n"
      ],
      "metadata": {
        "id": "XV0dtqFjxHZ1"
      }
    },
    {
      "cell_type": "code",
      "source": [],
      "metadata": {
        "id": "fYLyUPByvYsZ"
      },
      "execution_count": null,
      "outputs": []
    },
    {
      "cell_type": "markdown",
      "source": [
        "\n",
        "Análise dos resultados"
      ],
      "metadata": {
        "id": "wNCuSh7GxKlY"
      }
    },
    {
      "cell_type": "code",
      "source": [],
      "metadata": {
        "id": "mjyPnCIjxLWz"
      },
      "execution_count": null,
      "outputs": []
    },
    {
      "cell_type": "markdown",
      "source": [
        "\n",
        "# Interação com o Usuário:\n",
        "\n",
        "\n",
        "\n"
      ],
      "metadata": {
        "id": "mwMdT5g9vZB9"
      }
    },
    {
      "cell_type": "markdown",
      "source": [
        "Implementação de uma interface de usuário para interação com o algoritmo professor de inglês.\n"
      ],
      "metadata": {
        "id": "y-iiAl5NxP8s"
      }
    },
    {
      "cell_type": "code",
      "source": [],
      "metadata": {
        "id": "uLkq-7Bvvcie"
      },
      "execution_count": null,
      "outputs": []
    },
    {
      "cell_type": "markdown",
      "source": [
        "\n",
        "Processamento de consultas do usuário e geração de respostas."
      ],
      "metadata": {
        "id": "LPOKdQMTxVhj"
      }
    },
    {
      "cell_type": "code",
      "source": [],
      "metadata": {
        "id": "wrw1RCsSxWCU"
      },
      "execution_count": null,
      "outputs": []
    },
    {
      "cell_type": "markdown",
      "source": [
        "# Testes e Validação:\n",
        "\n"
      ],
      "metadata": {
        "id": "l8mzJRiovdA4"
      }
    },
    {
      "cell_type": "markdown",
      "source": [
        "Testes do sistema em diferentes cenários e condições.\n",
        "\n"
      ],
      "metadata": {
        "id": "9p_nDUDGxe5Y"
      }
    },
    {
      "cell_type": "code",
      "source": [],
      "metadata": {
        "id": "w8KswYKivf7q"
      },
      "execution_count": null,
      "outputs": []
    },
    {
      "cell_type": "markdown",
      "source": [
        "Validação da eficácia e precisão das respostas geradas."
      ],
      "metadata": {
        "id": "SR8CIgkFxgic"
      }
    },
    {
      "cell_type": "code",
      "source": [],
      "metadata": {
        "id": "8_wzF87kxhz9"
      },
      "execution_count": null,
      "outputs": []
    },
    {
      "cell_type": "markdown",
      "source": [
        "# Integração e Implantação:\n",
        "\n"
      ],
      "metadata": {
        "id": "ByZbIa9evgv8"
      }
    },
    {
      "cell_type": "markdown",
      "source": [
        "Integração do algoritmo professor de inglês em uma aplicação ou plataforma de ensino de inglês.\n",
        "\n"
      ],
      "metadata": {
        "id": "ZNoYMjjNxlXv"
      }
    },
    {
      "cell_type": "markdown",
      "source": [
        "Implantação do sistema para uso em produção."
      ],
      "metadata": {
        "id": "l39x0CZExnTp"
      }
    }
  ]
}